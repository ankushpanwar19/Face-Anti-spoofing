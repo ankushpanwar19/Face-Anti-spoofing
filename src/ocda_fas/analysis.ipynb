{
 "cells": [
  {
   "cell_type": "code",
   "execution_count": 108,
   "metadata": {},
   "outputs": [],
   "source": [
    "import pandas as pd\n",
    "import numpy as np\n",
    "import matplotlib.pyplot as plt"
   ]
  },
  {
   "cell_type": "code",
   "execution_count": 65,
   "metadata": {},
   "outputs": [],
   "source": [
    "train_label_t = pd.read_json(r\"C:\\Users\\Pratyush\\SWITCHdrive\\grl-baseline\\myprotocol\\train_label_t.json\")\n",
    "train_label_v = pd.read_json(r\"C:\\Users\\Pratyush\\SWITCHdrive\\grl-baseline\\myprotocol\\train_label_v.json\")\n",
    "test_label = pd.read_json(r\"C:\\Users\\Pratyush\\SWITCHdrive\\grl-baseline\\myprotocol\\test_label.json\")"
   ]
  },
  {
   "cell_type": "markdown",
   "metadata": {},
   "source": [
    "# Analysis Plots"
   ]
  },
  {
   "cell_type": "code",
   "execution_count": 66,
   "metadata": {},
   "outputs": [],
   "source": [
    "train_label_t=train_label_t.T\n",
    "train_label_v=train_label_v.T\n",
    "test_label=test_label.T"
   ]
  },
  {
   "cell_type": "code",
   "execution_count": 67,
   "metadata": {},
   "outputs": [
    {
     "data": {
      "text/html": [
       "<div>\n",
       "<style scoped>\n",
       "    .dataframe tbody tr th:only-of-type {\n",
       "        vertical-align: middle;\n",
       "    }\n",
       "\n",
       "    .dataframe tbody tr th {\n",
       "        vertical-align: top;\n",
       "    }\n",
       "\n",
       "    .dataframe thead th {\n",
       "        text-align: right;\n",
       "    }\n",
       "</style>\n",
       "<table border=\"1\" class=\"dataframe\">\n",
       "  <thead>\n",
       "    <tr style=\"text-align: right;\">\n",
       "      <th></th>\n",
       "      <th>0</th>\n",
       "      <th>1</th>\n",
       "      <th>2</th>\n",
       "      <th>3</th>\n",
       "      <th>4</th>\n",
       "      <th>5</th>\n",
       "      <th>6</th>\n",
       "      <th>7</th>\n",
       "      <th>8</th>\n",
       "      <th>9</th>\n",
       "      <th>...</th>\n",
       "      <th>34</th>\n",
       "      <th>35</th>\n",
       "      <th>36</th>\n",
       "      <th>37</th>\n",
       "      <th>38</th>\n",
       "      <th>39</th>\n",
       "      <th>40</th>\n",
       "      <th>41</th>\n",
       "      <th>42</th>\n",
       "      <th>43</th>\n",
       "    </tr>\n",
       "  </thead>\n",
       "  <tbody>\n",
       "    <tr>\n",
       "      <th>Data/train/7349/spoof/117094.jpg</th>\n",
       "      <td>0</td>\n",
       "      <td>0</td>\n",
       "      <td>0</td>\n",
       "      <td>0</td>\n",
       "      <td>0</td>\n",
       "      <td>0</td>\n",
       "      <td>0</td>\n",
       "      <td>0</td>\n",
       "      <td>0</td>\n",
       "      <td>0</td>\n",
       "      <td>...</td>\n",
       "      <td>0</td>\n",
       "      <td>0</td>\n",
       "      <td>0</td>\n",
       "      <td>0</td>\n",
       "      <td>0</td>\n",
       "      <td>0</td>\n",
       "      <td>8</td>\n",
       "      <td>1</td>\n",
       "      <td>1</td>\n",
       "      <td>1</td>\n",
       "    </tr>\n",
       "    <tr>\n",
       "      <th>Data/train/7078/spoof/091946.jpg</th>\n",
       "      <td>0</td>\n",
       "      <td>0</td>\n",
       "      <td>0</td>\n",
       "      <td>0</td>\n",
       "      <td>0</td>\n",
       "      <td>0</td>\n",
       "      <td>0</td>\n",
       "      <td>0</td>\n",
       "      <td>0</td>\n",
       "      <td>0</td>\n",
       "      <td>...</td>\n",
       "      <td>0</td>\n",
       "      <td>0</td>\n",
       "      <td>0</td>\n",
       "      <td>0</td>\n",
       "      <td>0</td>\n",
       "      <td>0</td>\n",
       "      <td>7</td>\n",
       "      <td>2</td>\n",
       "      <td>2</td>\n",
       "      <td>1</td>\n",
       "    </tr>\n",
       "    <tr>\n",
       "      <th>Data/train/1470/spoof/088278.jpg</th>\n",
       "      <td>0</td>\n",
       "      <td>0</td>\n",
       "      <td>0</td>\n",
       "      <td>0</td>\n",
       "      <td>0</td>\n",
       "      <td>0</td>\n",
       "      <td>0</td>\n",
       "      <td>0</td>\n",
       "      <td>0</td>\n",
       "      <td>0</td>\n",
       "      <td>...</td>\n",
       "      <td>0</td>\n",
       "      <td>0</td>\n",
       "      <td>0</td>\n",
       "      <td>0</td>\n",
       "      <td>0</td>\n",
       "      <td>0</td>\n",
       "      <td>2</td>\n",
       "      <td>1</td>\n",
       "      <td>1</td>\n",
       "      <td>1</td>\n",
       "    </tr>\n",
       "    <tr>\n",
       "      <th>Data/train/8431/spoof/433770.jpg</th>\n",
       "      <td>0</td>\n",
       "      <td>0</td>\n",
       "      <td>0</td>\n",
       "      <td>0</td>\n",
       "      <td>0</td>\n",
       "      <td>0</td>\n",
       "      <td>0</td>\n",
       "      <td>0</td>\n",
       "      <td>0</td>\n",
       "      <td>0</td>\n",
       "      <td>...</td>\n",
       "      <td>0</td>\n",
       "      <td>0</td>\n",
       "      <td>0</td>\n",
       "      <td>0</td>\n",
       "      <td>0</td>\n",
       "      <td>0</td>\n",
       "      <td>9</td>\n",
       "      <td>1</td>\n",
       "      <td>1</td>\n",
       "      <td>1</td>\n",
       "    </tr>\n",
       "    <tr>\n",
       "      <th>Data/train/545/spoof/278212.jpg</th>\n",
       "      <td>0</td>\n",
       "      <td>0</td>\n",
       "      <td>0</td>\n",
       "      <td>0</td>\n",
       "      <td>0</td>\n",
       "      <td>0</td>\n",
       "      <td>0</td>\n",
       "      <td>0</td>\n",
       "      <td>0</td>\n",
       "      <td>0</td>\n",
       "      <td>...</td>\n",
       "      <td>0</td>\n",
       "      <td>0</td>\n",
       "      <td>0</td>\n",
       "      <td>0</td>\n",
       "      <td>0</td>\n",
       "      <td>0</td>\n",
       "      <td>1</td>\n",
       "      <td>2</td>\n",
       "      <td>1</td>\n",
       "      <td>1</td>\n",
       "    </tr>\n",
       "  </tbody>\n",
       "</table>\n",
       "<p>5 rows × 44 columns</p>\n",
       "</div>"
      ],
      "text/plain": [
       "                                  0   1   2   3   4   5   6   7   8   9   ...  \\\n",
       "Data/train/7349/spoof/117094.jpg   0   0   0   0   0   0   0   0   0   0  ...   \n",
       "Data/train/7078/spoof/091946.jpg   0   0   0   0   0   0   0   0   0   0  ...   \n",
       "Data/train/1470/spoof/088278.jpg   0   0   0   0   0   0   0   0   0   0  ...   \n",
       "Data/train/8431/spoof/433770.jpg   0   0   0   0   0   0   0   0   0   0  ...   \n",
       "Data/train/545/spoof/278212.jpg    0   0   0   0   0   0   0   0   0   0  ...   \n",
       "\n",
       "                                  34  35  36  37  38  39  40  41  42  43  \n",
       "Data/train/7349/spoof/117094.jpg   0   0   0   0   0   0   8   1   1   1  \n",
       "Data/train/7078/spoof/091946.jpg   0   0   0   0   0   0   7   2   2   1  \n",
       "Data/train/1470/spoof/088278.jpg   0   0   0   0   0   0   2   1   1   1  \n",
       "Data/train/8431/spoof/433770.jpg   0   0   0   0   0   0   9   1   1   1  \n",
       "Data/train/545/spoof/278212.jpg    0   0   0   0   0   0   1   2   1   1  \n",
       "\n",
       "[5 rows x 44 columns]"
      ]
     },
     "execution_count": 67,
     "metadata": {},
     "output_type": "execute_result"
    }
   ],
   "source": [
    "train_label_t.head()"
   ]
  },
  {
   "cell_type": "code",
   "execution_count": 91,
   "metadata": {},
   "outputs": [
    {
     "name": "stdout",
     "output_type": "stream",
     "text": [
      "444964\n",
      "49441\n",
      "67170\n"
     ]
    }
   ],
   "source": [
    "print(len(train_label_t))\n",
    "print(len(train_label_v))\n",
    "print(len(test_label))"
   ]
  },
  {
   "cell_type": "markdown",
   "metadata": {},
   "source": [
    "# Overall Spoof type plot"
   ]
  },
  {
   "cell_type": "code",
   "execution_count": 96,
   "metadata": {},
   "outputs": [],
   "source": [
    "spoof_type_tr = train_label_t[40].value_counts()\n",
    "spoof_type_v = train_label_v[40].value_counts()\n",
    "spoof_type_te = test_label[40].value_counts()"
   ]
  },
  {
   "cell_type": "code",
   "execution_count": 97,
   "metadata": {},
   "outputs": [],
   "source": [
    "label_tr = train_label_t[43].value_counts()\n",
    "label_v = train_label_v[43].value_counts()\n",
    "label_te = test_label[43].value_counts()\n"
   ]
  },
  {
   "cell_type": "code",
   "execution_count": 137,
   "metadata": {},
   "outputs": [],
   "source": [
    "total_live = label_tr[0] + label_v[0] + label_te[0] #total live samples\n",
    "spf_1 = spoof_type_tr[1] + spoof_type_v[1] + spoof_type_te[1] #spoof type 1 and so on..\n",
    "spf_2 = spoof_type_tr[2] + spoof_type_v[2] + spoof_type_te[2] \n",
    "spf_3 = spoof_type_tr[3] + spoof_type_v[3] + spoof_type_te[3] \n",
    "spf_4 = spoof_type_tr[4] + spoof_type_v[4] + spoof_type_te[4] \n",
    "spf_5 = spoof_type_tr[5] + spoof_type_v[5] + spoof_type_te[5] \n",
    "spf_6 = spoof_type_tr[6] + spoof_type_v[6] + spoof_type_te[6] \n",
    "spf_7 = spoof_type_tr[7] + spoof_type_v[7] + spoof_type_te[7] \n",
    "spf_8 = spoof_type_tr[8] + spoof_type_v[8] + spoof_type_te[8] \n",
    "spf_9 = spoof_type_tr[9] + spoof_type_v[9] + spoof_type_te[9] \n",
    "spf_10 = spoof_type_tr[10] + spoof_type_v[10] + spoof_type_te[10] "
   ]
  },
  {
   "cell_type": "code",
   "execution_count": 138,
   "metadata": {},
   "outputs": [],
   "source": [
    "total_samples = 444964 + 49441 + 67170\n",
    "percent_live = (total_live/total_samples) * 100\n",
    "percent_spf_1 = (spf_1/total_samples) * 100\n",
    "percent_spf_2 = (spf_2/total_samples) * 100\n",
    "percent_spf_3 = (spf_3/total_samples) * 100\n",
    "percent_spf_4 = (spf_4/total_samples) * 100\n",
    "percent_spf_5 = (spf_5/total_samples) * 100\n",
    "percent_spf_6 = (spf_6/total_samples) * 100\n",
    "percent_spf_7 = (spf_7/total_samples) * 100\n",
    "percent_spf_8 = (spf_8/total_samples) * 100\n",
    "percent_spf_9 = (spf_9/total_samples) * 100\n",
    "percent_spf_10 = (spf_10/total_samples) * 100"
   ]
  },
  {
   "cell_type": "code",
   "execution_count": 141,
   "metadata": {},
   "outputs": [
    {
     "data": {
      "image/png": "[encoded data removed]",
      "text/plain": [
       "<Figure size 504x504 with 1 Axes>"
      ]
     },
     "metadata": {
      "needs_background": "light"
     },
     "output_type": "display_data"
    }
   ],
   "source": [
    "objects = ('0', '1', '2', '3', '4', '5', '6', '7', '8', '9', '10')\n",
    "y_pos = np.arange(len(objects))\n",
    "percentage = [percent_live, percent_spf_1, percent_spf_2, percent_spf_3, percent_spf_4, percent_spf_5, percent_spf_6, percent_spf_7, percent_spf_8, percent_spf_9, percent_spf_10]\n",
    "plt.figure(figsize=(7,7))\n",
    "plt.bar(y_pos, percentage, align='center', alpha=1,color=['blue', 'red'])\n",
    "plt.xticks(y_pos, objects)\n",
    "plt.ylabel('Percentage')\n",
    "plt.title('Dataset Distribution - Spoof Type')\n",
    "for index, value in enumerate(percentage):\n",
    "    plt.text(index, value, str(round(value,1))+\"%\")\n",
    "\n",
    "plt.show()\n"
   ]
  },
  {
   "cell_type": "markdown",
   "metadata": {},
   "source": [
    "# Combination of illumination condition +  Environment condition"
   ]
  },
  {
   "cell_type": "code",
   "execution_count": 194,
   "metadata": {},
   "outputs": [],
   "source": [
    "#train_label_v.head()"
   ]
  },
  {
   "cell_type": "code",
   "execution_count": 186,
   "metadata": {},
   "outputs": [],
   "source": [
    "#41 - 0 to 4 and #42 - 0 to 2\n",
    "samples_v = []\n",
    "samples_te = []\n",
    "for i in range(5):\n",
    "    for j in range(3):\n",
    "        samples_v.append(len(train_label_v.loc[(train_label_v[41] == i) & (train_label_v[42] == j)]))\n",
    "        samples_te.append(len(test_label.loc[(test_label[41] == i) & (test_label[42] == j)]))\n",
    "        \n",
    "        "
   ]
  },
  {
   "cell_type": "code",
   "execution_count": 183,
   "metadata": {},
   "outputs": [],
   "source": [
    "#train_label_v.loc[(train_label_v[41] == 1) & (train_label_v[42] == 1)]"
   ]
  },
  {
   "cell_type": "code",
   "execution_count": 187,
   "metadata": {},
   "outputs": [
    {
     "name": "stdout",
     "output_type": "stream",
     "text": [
      "[16246, 0, 0, 0, 14910, 4735, 0, 5050, 1552, 0, 2758, 786, 0, 2633, 771]\n",
      "[19923, 0, 0, 0, 31897, 3222, 0, 4700, 1271, 0, 1542, 919, 0, 2583, 1113]\n"
     ]
    }
   ],
   "source": [
    "print(samples_v)\n",
    "print(samples_te)"
   ]
  },
  {
   "cell_type": "code",
   "execution_count": 188,
   "metadata": {},
   "outputs": [],
   "source": [
    "for i in range(len(samples_v)):\n",
    "    samples_v[i] = (samples_v[i]/len(train_label_v)) * 100\n",
    "for i in range(len(samples_te)):\n",
    "    samples_te[i] = (samples_te[i]/len(test_label)) * 100"
   ]
  },
  {
   "cell_type": "code",
   "execution_count": 190,
   "metadata": {},
   "outputs": [
    {
     "name": "stdout",
     "output_type": "stream",
     "text": [
      "[32.85936773123521, 0.0, 0.0, 0.0, 30.157157015432535, 9.577071661171901, 0.0, 10.214194696709209, 3.139095083028256, 0.0, 5.578366133371089, 1.5897736696264233, 0.0, 5.3255395319673955, 1.5594344774579803]\n",
      "[29.660562751228227, 0.0, 0.0, 0.0, 47.48697335119845, 4.796784278695846, 0.0, 6.997171356260236, 1.8922137859163315, 0.0, 2.295667708798571, 1.3681703141283312, 0.0, 3.8454667262170608, 1.656989727556945]\n"
     ]
    }
   ],
   "source": [
    "print(samples_v)\n",
    "print(samples_te)"
   ]
  },
  {
   "cell_type": "code",
   "execution_count": 192,
   "metadata": {},
   "outputs": [
    {
     "data": {
      "image/png": "[encoded data removed]",
      "text/plain": [
       "<Figure size 504x504 with 1 Axes>"
      ]
     },
     "metadata": {
      "needs_background": "light"
     },
     "output_type": "display_data"
    }
   ],
   "source": [
    "objects = ('00', '01', '02', '10', '11', '12', '20', '21', '22', '30', '31', '32', '40', '41', '42')\n",
    "y_pos = np.arange(len(objects))\n",
    "percentage_v = [samples_v[0],samples_v[1],samples_v[2],samples_v[3],samples_v[4],samples_v[5],samples_v[6],samples_v[7],samples_v[8],samples_v[9],samples_v[10],samples_v[11],samples_v[12],samples_v[13],samples_v[14]]\n",
    "#percentage_te = [samples_te[0],samples_te[1],samples_te[2],samples_te[3],samples_te[4],samples_te[5],samples_te[6],samples_te[7],samples_te[8],samples_te[9],samples_te[10],samples_te[11],samples_te[12],samples_te[13],samples_te[14]]\n",
    "plt.figure(figsize=(7,7))\n",
    "plt.bar(y_pos, percentage_v, align='center', alpha=1,color=['blue', 'red'])\n",
    "plt.xticks(y_pos, objects)\n",
    "plt.ylabel('Percentage')\n",
    "plt.title('Val. Dataset Distribution - Illumination and Environment')\n",
    "for index, value in enumerate(percentage_v):\n",
    "    plt.text(index, value, str(round(value,1))+\"%\")\n",
    "\n",
    "plt.show()"
   ]
  },
  {
   "cell_type": "code",
   "execution_count": 193,
   "metadata": {},
   "outputs": [
    {
     "data": {
      "image/png": "[encoded data removed]",
      "text/plain": [
       "<Figure size 504x504 with 1 Axes>"
      ]
     },
     "metadata": {
      "needs_background": "light"
     },
     "output_type": "display_data"
    }
   ],
   "source": [
    "objects = ('00', '01', '02', '10', '11', '12', '20', '21', '22', '30', '31', '32', '40', '41', '42')\n",
    "y_pos = np.arange(len(objects))\n",
    "percentage_te = [samples_te[0],samples_te[1],samples_te[2],samples_te[3],samples_te[4],samples_te[5],samples_te[6],samples_te[7],samples_te[8],samples_te[9],samples_te[10],samples_te[11],samples_te[12],samples_te[13],samples_te[14]]\n",
    "plt.figure(figsize=(7,7))\n",
    "plt.bar(y_pos, percentage_te, align='center', alpha=1,color=['blue', 'red'])\n",
    "plt.xticks(y_pos, objects)\n",
    "plt.ylabel('Percentage')\n",
    "plt.title('Test Dataset Distribution- Illumination and Environment')\n",
    "for index, value in enumerate(percentage_te):\n",
    "    plt.text(index, value, str(round(value,1))+\"%\")\n",
    "\n",
    "plt.show()"
   ]
  },
  {
   "cell_type": "markdown",
   "metadata": {},
   "source": [
    "# 3 Combination of Spoof type +  Environment condition\n"
   ]
  },
  {
   "cell_type": "code",
   "execution_count": 222,
   "metadata": {},
   "outputs": [],
   "source": [
    "#train_label_v.loc[(train_label_v[40] == 1) & (train_label_v[42] == 2)]"
   ]
  },
  {
   "cell_type": "code",
   "execution_count": 203,
   "metadata": {},
   "outputs": [],
   "source": [
    "samples3_v = []\n",
    "samples3_te = []\n",
    "for i in range(11):\n",
    "    for j in range(3):\n",
    "        samples3_v.append(len(train_label_v.loc[(train_label_v[40] == i) & (train_label_v[42] == j)]))\n",
    "        samples3_te.append(len(test_label.loc[(test_label[40] == i) & (test_label[42] == j)]))"
   ]
  },
  {
   "cell_type": "code",
   "execution_count": 208,
   "metadata": {},
   "outputs": [
    {
     "name": "stdout",
     "output_type": "stream",
     "text": [
      "[16246, 0, 0, 0, 2752, 803, 0, 2367, 755, 0, 2462, 716, 0, 2528, 837, 0, 2215, 802, 0, 2524, 804, 0, 2445, 662, 0, 2621, 687, 0, 2394, 759, 0, 3043, 1019]\n",
      "[19923, 0, 0, 0, 3177, 423, 0, 5366, 55, 0, 5889, 194, 0, 3331, 956, 0, 6088, 9, 0, 2709, 821, 0, 6477, 0, 0, 2162, 1497, 0, 3161, 1322, 0, 2362, 1248]\n"
     ]
    }
   ],
   "source": [
    "print(samples3_v)\n",
    "print(samples3_te)"
   ]
  },
  {
   "cell_type": "code",
   "execution_count": 209,
   "metadata": {},
   "outputs": [],
   "source": [
    "for i in range(len(samples3_v)):\n",
    "    samples3_v[i] = (samples3_v[i]/len(train_label_v)) * 100\n",
    "for i in range(len(samples3_te)):\n",
    "    samples3_te[i] = (samples3_te[i]/len(test_label)) * 100"
   ]
  },
  {
   "cell_type": "code",
   "execution_count": 210,
   "metadata": {},
   "outputs": [
    {
     "name": "stdout",
     "output_type": "stream",
     "text": [
      "[32.85936773123521, 0.0, 0.0, 0.0, 5.566230456503711, 1.6241580874173256, 0.0, 4.787524524180336, 1.5270726724783075, 0.0, 4.979672741247143, 1.4481907728403551, 0.0, 5.113165186788294, 1.6929269229991304, 0.0, 4.480087376873445, 1.622135474606096, 0.0, 5.105074735543376, 1.6261807002285553, 0.0, 4.945288323456241, 1.3389696810339597, 0.0, 5.301268178232641, 1.3895350013146983, 0.0, 4.8421350700835335, 1.5351631237232257, 0.0, 6.154810784571509, 2.061042454642908]\n",
      "[29.660562751228227, 0.0, 0.0, 0.0, 4.729790084859312, 0.6297454220634211, 0.0, 7.9886854250409405, 0.0818817924668751, 0.0, 8.76730683340777, 0.28881941342861395, 0.0, 4.959059103766562, 1.4232544290605924, 0.0, 9.063570046151556, 0.013398838767306832, 0.0, 4.033050468959357, 1.2222718475509902, 0.0, 9.642697632871817, 0.0, 0.0, 3.218698823879708, 2.2286735149620367, 0.0, 4.705969927050766, 1.9681405389310704, 0.0, 3.516450796486527, 1.8579723090665474]\n"
     ]
    }
   ],
   "source": [
    "print(samples3_v)\n",
    "print(samples3_te)"
   ]
  },
  {
   "cell_type": "code",
   "execution_count": 212,
   "metadata": {},
   "outputs": [
    {
     "data": {
      "text/plain": [
       "33"
      ]
     },
     "execution_count": 212,
     "metadata": {},
     "output_type": "execute_result"
    }
   ],
   "source": []
  },
  {
   "cell_type": "code",
   "execution_count": 219,
   "metadata": {},
   "outputs": [
    {
     "data": {
      "image/png": "[encoded data removed]",
      "text/plain": [
       "<Figure size 1080x504 with 1 Axes>"
      ]
     },
     "metadata": {
      "needs_background": "light"
     },
     "output_type": "display_data"
    }
   ],
   "source": [
    "objects = ('00', '01', '02', '10', '11', '12', '20', '21', '22', '30', '31', '32', '40', '41', '42','50', '51', '52', '60', '61', '62', '70', '71', '72', '80', '81', '82', '90', '91', '92', '10/0', '10/1', '10/2')\n",
    "y_pos = np.arange(len(objects))\n",
    "percentage3_v = []\n",
    "for i in range(len(samples3_v)):\n",
    "    percentage3_v.append(samples3_v[i])\n",
    "plt.figure(figsize=(15,7))\n",
    "plt.bar(y_pos, percentage3_v, align='center', alpha=1,color=['blue', 'red'])\n",
    "plt.xticks(y_pos, objects)\n",
    "plt.ylabel('Percentage')\n",
    "plt.title('Val. Dataset Distribution - Spoof type and Environment')\n",
    "for index, value in enumerate(percentage3_v):\n",
    "     plt.text(index, value, str(round(value,1))+\"%\")\n",
    "\n",
    "plt.show()"
   ]
  },
  {
   "cell_type": "code",
   "execution_count": 221,
   "metadata": {},
   "outputs": [
    {
     "data": {
      "image/png": "[encoded data removed]",
      "text/plain": [
       "<Figure size 1080x504 with 1 Axes>"
      ]
     },
     "metadata": {
      "needs_background": "light"
     },
     "output_type": "display_data"
    }
   ],
   "source": [
    "objects = ('00', '01', '02', '10', '11', '12', '20', '21', '22', '30', '31', '32', '40', '41', '42','50', '51', '52', '60', '61', '62', '70', '71', '72', '80', '81', '82', '90', '91', '92', '10/0', '10/1', '10/2')\n",
    "y_pos = np.arange(len(objects))\n",
    "percentage3_te = []\n",
    "for i in range(len(samples3_te)):\n",
    "    percentage3_te.append(samples3_te[i])\n",
    "plt.figure(figsize=(15,7))\n",
    "plt.bar(y_pos, percentage3_te, align='center', alpha=1,color=['blue', 'red'])\n",
    "plt.xticks(y_pos, objects)\n",
    "plt.ylabel('Percentage')\n",
    "plt.title('Test. Dataset Distribution - Spoof type and Environment')\n",
    "for index, value in enumerate(percentage3_te):\n",
    "     plt.text(index, value, str(round(value,1))+\"%\")\n",
    "\n",
    "plt.show()"
   ]
  },
  {
   "cell_type": "markdown",
   "metadata": {},
   "source": [
    "# 4 Combination of Spoof type +  Illumination condition\n"
   ]
  },
  {
   "cell_type": "code",
   "execution_count": 232,
   "metadata": {},
   "outputs": [],
   "source": [
    "samples4_v = []\n",
    "samples4_te = []\n",
    "for i in range(1,11):\n",
    "    for j in range(1,5):\n",
    "        samples4_v.append(len(train_label_v.loc[(train_label_v[40] == i) & (train_label_v[41] == j)]))\n",
    "        samples4_te.append(len(test_label.loc[(test_label[40] == i) & (test_label[41] == j)]))"
   ]
  },
  {
   "cell_type": "code",
   "execution_count": 233,
   "metadata": {},
   "outputs": [
    {
     "name": "stdout",
     "output_type": "stream",
     "text": [
      "[2241, 649, 336, 329, 1861, 641, 334, 286, 1835, 691, 325, 327, 1990, 715, 344, 316, 1847, 552, 325, 293, 1951, 680, 384, 313, 1905, 533, 339, 330, 1872, 604, 385, 447, 1693, 749, 403, 308, 2450, 788, 369, 455]\n",
      "[2687, 445, 188, 280, 3941, 1372, 102, 6, 4543, 519, 137, 884, 2827, 698, 374, 388, 6031, 66, 0, 0, 2073, 489, 305, 663, 6477, 0, 0, 0, 2113, 704, 327, 515, 2350, 906, 590, 637, 2077, 772, 438, 323]\n"
     ]
    }
   ],
   "source": [
    "print(samples4_v)\n",
    "print(samples4_te)"
   ]
  },
  {
   "cell_type": "code",
   "execution_count": 234,
   "metadata": {},
   "outputs": [],
   "source": [
    "for i in range(len(samples4_v)):\n",
    "    samples4_v[i] = (samples4_v[i]/len(train_label_v)) * 100\n",
    "for i in range(len(samples4_te)):\n",
    "    samples4_te[i] = (samples4_te[i]/len(test_label)) * 100"
   ]
  },
  {
   "cell_type": "code",
   "execution_count": 235,
   "metadata": {},
   "outputs": [
    {
     "name": "stdout",
     "output_type": "stream",
     "text": [
      "[4.532675309965414, 1.3126757144879755, 0.6795979045731275, 0.6654396148945207, 3.7640824416981857, 1.2964948119981392, 0.6755526789506684, 0.5784672640116503, 3.7114945086062177, 1.3976254525596163, 0.6573491636496026, 0.6613943892720617, 4.0249994943467975, 1.4461681600291256, 0.6957788070629639, 0.6391456483485367, 3.735765862340972, 1.1164822717987097, 0.6573491636496026, 0.5926255536902572, 3.946117594708845, 1.3753767116360915, 0.7766833195121458, 0.633077809914848, 3.853077405392286, 1.0780526283853482, 0.6856657430068162, 0.6674622277057503, 3.7863311826217103, 1.2216581379826459, 0.7787059323233753, 0.9041079266196073, 3.424283489411622, 1.5149369956109302, 0.8151129629255072, 0.6229647458587003, 4.955401387512389, 1.5938188952488825, 0.7463441273437026, 0.9202888291094437]\n",
      "[4.000297751972607, 0.6624981390501712, 0.27988685425040943, 0.416852761649546, 5.867202620217359, 2.042578532082775, 0.15185350602947745, 0.008932559178204555, 6.763436057763883, 0.7726663689146941, 0.2039601012356707, 1.316063718922138, 4.2087241327973794, 1.0391543843977966, 0.5567961887747507, 0.5776388268572279, 8.978710733958613, 0.09825815096025012, 0.0, 0.0, 3.086199196069674, 0.7280035730236712, 0.45407175822539825, 0.9870477891916033, 9.642697632871817, 0.0, 0.0, 0.0, 3.1457495905910378, 1.0480869435760012, 0.4868244752121483, 0.7667113294625577, 3.498585678130118, 1.348816435908888, 0.8783683191901146, 0.9483400327527169, 3.0921542355218103, 1.1493226142623194, 0.6520768200089326, 0.48086943576001195]\n"
     ]
    }
   ],
   "source": [
    "print(samples4_v)\n",
    "print(samples4_te)"
   ]
  },
  {
   "cell_type": "code",
   "execution_count": 236,
   "metadata": {},
   "outputs": [
    {
     "data": {
      "image/png": "[encoded data removed]",
      "text/plain": [
       "<Figure size 1440x504 with 1 Axes>"
      ]
     },
     "metadata": {
      "needs_background": "light"
     },
     "output_type": "display_data"
    }
   ],
   "source": [
    "objects = ('11', '12', '13', '14', '21', '22', '23', '24', '31', '32', '33', '34', '41', '42', '43', '44', '51', '52', '53', '54', '61', '62', '63', '64', '71', '72', '73', '74', '81', '82', '83', '84', '91', '92', '93', '94', '10/1', '10/2', '10/3', '10/4')\n",
    "y_pos = np.arange(len(objects))\n",
    "percentage4_v = []\n",
    "for i in range(len(samples4_v)):\n",
    "    percentage4_v.append(samples4_v[i])\n",
    "plt.figure(figsize=(20,7))\n",
    "plt.bar(y_pos, percentage4_v, align='center', alpha=1,color=['blue', 'red'])\n",
    "plt.xticks(y_pos, objects)\n",
    "plt.ylabel('Percentage')\n",
    "plt.title('Val. Dataset Distribution - Spoof type and Illumination')\n",
    "for index, value in enumerate(percentage4_v):\n",
    "     plt.text(index, value, str(round(value,1))+\"%\")\n",
    "\n",
    "plt.show()"
   ]
  },
  {
   "cell_type": "code",
   "execution_count": 238,
   "metadata": {},
   "outputs": [
    {
     "data": {
      "image/png": "[encoded data removed]",
      "text/plain": [
       "<Figure size 1440x504 with 1 Axes>"
      ]
     },
     "metadata": {
      "needs_background": "light"
     },
     "output_type": "display_data"
    }
   ],
   "source": [
    "objects = ('11', '12', '13', '14', '21', '22', '23', '24', '31', '32', '33', '34', '41', '42', '43', '44', '51', '52', '53', '54', '61', '62', '63', '64', '71', '72', '73', '74', '81', '82', '83', '84', '91', '92', '93', '94', '10/1', '10/2', '10/3', '10/4')\n",
    "y_pos = np.arange(len(objects))\n",
    "percentage4_te= []\n",
    "for i in range(len(samples4_te)):\n",
    "    percentage4_te.append(samples4_te[i])\n",
    "plt.figure(figsize=(20,7))\n",
    "plt.bar(y_pos, percentage4_te, align='center', alpha=1,color=['blue', 'red'])\n",
    "plt.xticks(y_pos, objects)\n",
    "plt.ylabel('Percentage')\n",
    "plt.title('Test Dataset Distribution - Spoof type and Illumination')\n",
    "for index, value in enumerate(percentage4_te):\n",
    "     plt.text(index, value, str(round(value,1))+\"%\")\n",
    "\n",
    "plt.show()"
   ]
  },
  {
   "cell_type": "markdown",
   "metadata": {},
   "source": [
    "# 5 Combination of Spoof type +  Illumination condition + Environment\n"
   ]
  },
  {
   "cell_type": "code",
   "execution_count": 246,
   "metadata": {},
   "outputs": [],
   "source": [
    "samples5_v = []\n",
    "samples5_te = []\n",
    "for i in range(1,11):\n",
    "    for j in range(1,5):\n",
    "        for k in range(1,3):\n",
    "            samples5_v.append(len(train_label_v.loc[(train_label_v[40] == i) & (train_label_v[41] == j) & (train_label_v[42] == k)]))\n",
    "            samples5_te.append(len(test_label.loc[(test_label[40] == i) & (test_label[41] == j) & (test_label[42] == k)]))\n"
   ]
  },
  {
   "cell_type": "code",
   "execution_count": 251,
   "metadata": {},
   "outputs": [
    {
     "name": "stdout",
     "output_type": "stream",
     "text": [
      "[1749, 492, 476, 173, 258, 78, 269, 60, 1396, 465, 489, 152, 272, 62, 210, 76, 1436, 399, 536, 155, 241, 84, 249, 78, 1475, 515, 542, 173, 255, 89, 256, 60, 1341, 506, 394, 158, 253, 72, 227, 66, 1459, 492, 516, 164, 307, 77, 242, 71, 1457, 448, 473, 60, 275, 64, 240, 90, 1514, 358, 436, 168, 302, 83, 369, 78, 1253, 440, 622, 127, 300, 103, 219, 89, 1830, 620, 566, 222, 295, 74, 352, 103]\n",
      "[2502, 185, 386, 59, 110, 78, 179, 101, 3906, 35, 1358, 14, 99, 3, 3, 3, 4471, 72, 476, 43, 90, 47, 852, 32, 2391, 436, 481, 217, 227, 147, 232, 156, 6022, 9, 66, 0, 0, 0, 0, 0, 1580, 493, 350, 139, 196, 109, 583, 80, 6477, 0, 0, 0, 0, 0, 0, 0, 1390, 723, 316, 388, 153, 174, 303, 212, 1779, 571, 733, 173, 446, 144, 203, 434, 1379, 698, 534, 238, 221, 217, 228, 95]\n"
     ]
    }
   ],
   "source": [
    "print(samples5_v)\n",
    "print(samples5_te)"
   ]
  },
  {
   "cell_type": "code",
   "execution_count": 252,
   "metadata": {},
   "outputs": [],
   "source": [
    "for i in range(len(samples5_v)):\n",
    "    samples5_v[i] = (samples5_v[i]/len(train_label_v)) * 100\n",
    "for i in range(len(samples5_te)):\n",
    "    samples5_te[i] = (samples5_te[i]/len(test_label)) * 100"
   ]
  },
  {
   "cell_type": "code",
   "execution_count": 254,
   "metadata": {},
   "outputs": [
    {
     "name": "stdout",
     "output_type": "stream",
     "text": [
      "[3.5375498068404765, 0.9951255031249369, 0.962763698145264, 0.3499120163427115, 0.521834105297223, 0.15776379927590461, 0.544082846220748, 0.12135676867377276, 2.8235674844764467, 0.940514957221739, 0.9890576646912482, 0.30743714730689103, 0.5501506846544366, 0.1254019942962319, 0.4247486903582048, 0.15371857365344552, 2.9044719969256287, 0.807022511680589, 1.0841204668190367, 0.3135049857405797, 0.4874496875063207, 0.16989947614328188, 0.5036305899961571, 0.15776379927590461, 2.983353896563581, 1.0416455977832164, 1.0962561436864142, 0.3499120163427115, 0.5157662668635343, 0.1800125401994296, 0.5177888796747638, 0.12135676867377276, 2.7123237798588216, 1.0234420824821504, 0.7969094476244413, 0.31957282417426836, 0.5117210412410752, 0.14562812240852735, 0.45913310814910707, 0.13349244554115006, 2.950992091583908, 0.9951255031249369, 1.043668210594446, 0.33170850104164556, 0.6209421330474707, 0.15574118646467508, 0.48947230031755024, 0.1436055095972978, 2.946946865961449, 0.9061305394308368, 0.9566958597115754, 0.12135676867377276, 0.5562185230881252, 0.12944721991869096, 0.48542707469509105, 0.18203515301065917, 3.062235796201533, 0.7240953864201776, 0.8818591856960822, 0.33979895228656376, 0.6108290689913229, 0.16787686333205235, 0.7463441273437026, 0.15776379927590461, 2.5343338524706214, 0.8899496369410004, 1.2580651685847777, 0.2568718270261524, 0.6067838433688638, 0.20832911955664327, 0.4429522056592706, 0.1800125401994296, 3.7013814445500697, 1.254019942962319, 1.1447988511559233, 0.4490200440929593, 0.5966707793127162, 0.14967334803098642, 0.7119597095528003, 0.20832911955664327]\n",
      "[3.7248771773112996, 0.27542057466130715, 0.5746613071311597, 0.08783683191901145, 0.1637635849337502, 0.11612326931665921, 0.2664880154831026, 0.15036474616644335, 5.815096025011165, 0.05210659520619325, 2.0217358940002974, 0.020842638082477296, 0.14738722644037516, 0.0044662795891022775, 0.0044662795891022775, 0.0044662795891022775, 6.656245347625428, 0.10719071013845466, 0.708649694804228, 0.06401667411046598, 0.13398838767306834, 0.06997171356260236, 1.268423403305047, 0.047640315617090964, 3.559624832514515, 0.6490993002828644, 0.7160934941193986, 0.3230608902783981, 0.337948488908739, 0.2188476998660116, 0.3453922882239095, 0.23224653863331843, 8.965311895191306, 0.013398838767306832, 0.09825815096025012, 0.0, 0.0, 0.0, 0.0, 0.0, 2.3522405835938662, 0.7339586124758076, 0.5210659520619324, 0.2069376209617389, 0.29179693315468214, 0.1622748250707161, 0.867947000148876, 0.1191007890427274, 9.642697632871817, 0.0, 0.0, 0.0, 0.0, 0.0, 0.0, 0.0, 2.0693762096173884, 1.0763733809736489, 0.47044811671877323, 0.5776388268572279, 0.22778025904421614, 0.2590442161679321, 0.45109423849933006, 0.31561709096322765, 2.6485037963376508, 0.8500818817924669, 1.0912609796039898, 0.257555456304898, 0.6639868989132053, 0.21438142027690932, 0.3022182521959208, 0.6461217805567963, 2.0529998511240137, 1.0391543843977966, 0.7949977668602054, 0.354324847402114, 0.3290159297305345, 0.3230608902783981, 0.3394372487717731, 0.14143218698823878]\n"
     ]
    }
   ],
   "source": [
    "print(samples5_v)\n",
    "print(samples5_te)"
   ]
  },
  {
   "cell_type": "code",
   "execution_count": 264,
   "metadata": {},
   "outputs": [],
   "source": [
    "#111 112, 121 122, 131 132, 141 142\n",
    "obj=[]\n",
    "for i in range(1,11):\n",
    "    for j in range(1,5):\n",
    "        for k in range(1,3):\n",
    "            obj.append(str(i)+str(j)+str(k))\n",
    "objects = tuple(obj)"
   ]
  },
  {
   "cell_type": "code",
   "execution_count": 273,
   "metadata": {},
   "outputs": [
    {
     "data": {
      "image/png": "[encoded data removed]",
      "text/plain": [
       "<Figure size 3240x1080 with 1 Axes>"
      ]
     },
     "metadata": {
      "needs_background": "light"
     },
     "output_type": "display_data"
    }
   ],
   "source": [
    "y_pos = np.arange(len(objects))\n",
    "percentage5_v = []\n",
    "for i in range(len(samples5_v)):\n",
    "    percentage5_v.append(samples5_v[i])\n",
    "plt.figure(figsize=(45,15))\n",
    "plt.bar(y_pos, percentage5_v, align='center', alpha=1,color=['blue', 'red'])\n",
    "plt.xticks(y_pos, objects)\n",
    "plt.ylabel('Percentage')\n",
    "plt.title('Val. Dataset Distribution - Spoof type, Illumination & Environment')\n",
    "for index, value in enumerate(percentage5_v):\n",
    "     plt.text(index, value, str(round(value,1))+\"%\")\n",
    "#plt.savefig('val.jpg', dpi=1200)\n",
    "plt.show()"
   ]
  },
  {
   "cell_type": "code",
   "execution_count": 270,
   "metadata": {
    "scrolled": true
   },
   "outputs": [
    {
     "data": {
      "image/png": "[encoded data removed]",
      "text/plain": [
       "<Figure size 3240x1080 with 1 Axes>"
      ]
     },
     "metadata": {
      "needs_background": "light"
     },
     "output_type": "display_data"
    }
   ],
   "source": [
    "y_pos = np.arange(len(objects))\n",
    "percentage5_te = []\n",
    "for i in range(len(samples5_te)):\n",
    "    percentage5_te.append(samples5_te[i])\n",
    "plt.figure(figsize=(45,15))\n",
    "plt.bar(y_pos, percentage5_te, align='center', alpha=1,color=['blue', 'red'])\n",
    "plt.xticks(y_pos, objects)\n",
    "plt.ylabel('Percentage')\n",
    "plt.title('Test Dataset Distribution - Spoof type, Illumination & Environment')\n",
    "for index, value in enumerate(percentage5_te):\n",
    "     plt.text(index, value, str(round(value,1))+\"%\")\n",
    "\n",
    "plt.show()"
   ]
  },
  {
   "cell_type": "markdown",
   "metadata": {},
   "source": [
    "# Finding wrong predictions of test scores"
   ]
  },
  {
   "cell_type": "code",
   "execution_count": 122,
   "metadata": {},
   "outputs": [],
   "source": [
    "import pandas as pd\n",
    "import numpy as np"
   ]
  },
  {
   "cell_type": "code",
   "execution_count": 123,
   "metadata": {},
   "outputs": [],
   "source": [
    "path = r\"C:\\Users\\Pratyush\\SWITCHdrive\\grl-baseline\\tgt_net_exp_037\\test_score_4.txt\" #path to test score\n",
    "test_label = pd.read_json(r\"C:\\Users\\Pratyush\\SWITCHdrive\\grl-baseline\\myprotocol\\test_label.json\") #test_label json file"
   ]
  },
  {
   "cell_type": "code",
   "execution_count": 124,
   "metadata": {},
   "outputs": [],
   "source": [
    "df_test = pd.read_csv(path, names =  [\"Pr(spoof)\", \"Ground truth\", \"Location\"])"
   ]
  },
  {
   "cell_type": "code",
   "execution_count": 125,
   "metadata": {},
   "outputs": [
    {
     "data": {
      "text/html": [
       "<div>\n",
       "<style scoped>\n",
       "    .dataframe tbody tr th:only-of-type {\n",
       "        vertical-align: middle;\n",
       "    }\n",
       "\n",
       "    .dataframe tbody tr th {\n",
       "        vertical-align: top;\n",
       "    }\n",
       "\n",
       "    .dataframe thead th {\n",
       "        text-align: right;\n",
       "    }\n",
       "</style>\n",
       "<table border=\"1\" class=\"dataframe\">\n",
       "  <thead>\n",
       "    <tr style=\"text-align: right;\">\n",
       "      <th></th>\n",
       "      <th>Pr(spoof)</th>\n",
       "      <th>Ground truth</th>\n",
       "      <th>Location</th>\n",
       "    </tr>\n",
       "  </thead>\n",
       "  <tbody>\n",
       "    <tr>\n",
       "      <th>0</th>\n",
       "      <td>0.00014</td>\n",
       "      <td>1</td>\n",
       "      <td>ce/6323/spoof/535014</td>\n",
       "    </tr>\n",
       "    <tr>\n",
       "      <th>1</th>\n",
       "      <td>0.00000</td>\n",
       "      <td>0</td>\n",
       "      <td>ce/6567/live/556901</td>\n",
       "    </tr>\n",
       "    <tr>\n",
       "      <th>2</th>\n",
       "      <td>0.01544</td>\n",
       "      <td>1</td>\n",
       "      <td>ce/6336/spoof/495582</td>\n",
       "    </tr>\n",
       "    <tr>\n",
       "      <th>3</th>\n",
       "      <td>0.00000</td>\n",
       "      <td>0</td>\n",
       "      <td>ce/7438/live/553203</td>\n",
       "    </tr>\n",
       "    <tr>\n",
       "      <th>4</th>\n",
       "      <td>0.16198</td>\n",
       "      <td>1</td>\n",
       "      <td>ce/5223/spoof/547897</td>\n",
       "    </tr>\n",
       "  </tbody>\n",
       "</table>\n",
       "</div>"
      ],
      "text/plain": [
       "   Pr(spoof)  Ground truth              Location\n",
       "0    0.00014             1  ce/6323/spoof/535014\n",
       "1    0.00000             0   ce/6567/live/556901\n",
       "2    0.01544             1  ce/6336/spoof/495582\n",
       "3    0.00000             0   ce/7438/live/553203\n",
       "4    0.16198             1  ce/5223/spoof/547897"
      ]
     },
     "execution_count": 125,
     "metadata": {},
     "output_type": "execute_result"
    }
   ],
   "source": [
    "df_test.head(5)"
   ]
  },
  {
   "cell_type": "code",
   "execution_count": 126,
   "metadata": {},
   "outputs": [
    {
     "data": {
      "text/html": [
       "<div>\n",
       "<style scoped>\n",
       "    .dataframe tbody tr th:only-of-type {\n",
       "        vertical-align: middle;\n",
       "    }\n",
       "\n",
       "    .dataframe tbody tr th {\n",
       "        vertical-align: top;\n",
       "    }\n",
       "\n",
       "    .dataframe thead th {\n",
       "        text-align: right;\n",
       "    }\n",
       "</style>\n",
       "<table border=\"1\" class=\"dataframe\">\n",
       "  <thead>\n",
       "    <tr style=\"text-align: right;\">\n",
       "      <th></th>\n",
       "      <th>Pr(spoof)</th>\n",
       "      <th>Ground truth</th>\n",
       "      <th>Location</th>\n",
       "    </tr>\n",
       "  </thead>\n",
       "  <tbody>\n",
       "    <tr>\n",
       "      <th>18</th>\n",
       "      <td>0.99996</td>\n",
       "      <td>0</td>\n",
       "      <td>ce/6919/live/497635</td>\n",
       "    </tr>\n",
       "    <tr>\n",
       "      <th>47</th>\n",
       "      <td>0.99263</td>\n",
       "      <td>0</td>\n",
       "      <td>ce/10059/live/523733</td>\n",
       "    </tr>\n",
       "    <tr>\n",
       "      <th>50</th>\n",
       "      <td>0.99057</td>\n",
       "      <td>0</td>\n",
       "      <td>ce/8978/live/542646</td>\n",
       "    </tr>\n",
       "    <tr>\n",
       "      <th>57</th>\n",
       "      <td>0.97654</td>\n",
       "      <td>0</td>\n",
       "      <td>ce/7245/live/504780</td>\n",
       "    </tr>\n",
       "    <tr>\n",
       "      <th>77</th>\n",
       "      <td>0.94757</td>\n",
       "      <td>0</td>\n",
       "      <td>ce/7072/live/496015</td>\n",
       "    </tr>\n",
       "    <tr>\n",
       "      <th>...</th>\n",
       "      <td>...</td>\n",
       "      <td>...</td>\n",
       "      <td>...</td>\n",
       "    </tr>\n",
       "    <tr>\n",
       "      <th>67103</th>\n",
       "      <td>0.99959</td>\n",
       "      <td>0</td>\n",
       "      <td>ce/9472/live/514241</td>\n",
       "    </tr>\n",
       "    <tr>\n",
       "      <th>67120</th>\n",
       "      <td>0.80176</td>\n",
       "      <td>0</td>\n",
       "      <td>ce/9715/live/510310</td>\n",
       "    </tr>\n",
       "    <tr>\n",
       "      <th>67135</th>\n",
       "      <td>0.99978</td>\n",
       "      <td>0</td>\n",
       "      <td>ce/8005/live/513516</td>\n",
       "    </tr>\n",
       "    <tr>\n",
       "      <th>67140</th>\n",
       "      <td>0.87508</td>\n",
       "      <td>0</td>\n",
       "      <td>ce/5061/live/557097</td>\n",
       "    </tr>\n",
       "    <tr>\n",
       "      <th>67150</th>\n",
       "      <td>0.99911</td>\n",
       "      <td>0</td>\n",
       "      <td>ce/9499/live/553474</td>\n",
       "    </tr>\n",
       "  </tbody>\n",
       "</table>\n",
       "<p>4833 rows × 3 columns</p>\n",
       "</div>"
      ],
      "text/plain": [
       "       Pr(spoof)  Ground truth              Location\n",
       "18       0.99996             0   ce/6919/live/497635\n",
       "47       0.99263             0  ce/10059/live/523733\n",
       "50       0.99057             0   ce/8978/live/542646\n",
       "57       0.97654             0   ce/7245/live/504780\n",
       "77       0.94757             0   ce/7072/live/496015\n",
       "...          ...           ...                   ...\n",
       "67103    0.99959             0   ce/9472/live/514241\n",
       "67120    0.80176             0   ce/9715/live/510310\n",
       "67135    0.99978             0   ce/8005/live/513516\n",
       "67140    0.87508             0   ce/5061/live/557097\n",
       "67150    0.99911             0   ce/9499/live/553474\n",
       "\n",
       "[4833 rows x 3 columns]"
      ]
     },
     "execution_count": 126,
     "metadata": {},
     "output_type": "execute_result"
    }
   ],
   "source": [
    "# wrong \"spoof\" prediction of actual live samples. Threshold of spoof probability = 0.65\n",
    "df1 = df_test.loc[(df_test[\"Pr(spoof)\"] >= 0.65) & (df_test[\"Ground truth\"] == 0)]\n",
    "df1"
   ]
  },
  {
   "cell_type": "code",
   "execution_count": 127,
   "metadata": {},
   "outputs": [
    {
     "data": {
      "text/html": [
       "<div>\n",
       "<style scoped>\n",
       "    .dataframe tbody tr th:only-of-type {\n",
       "        vertical-align: middle;\n",
       "    }\n",
       "\n",
       "    .dataframe tbody tr th {\n",
       "        vertical-align: top;\n",
       "    }\n",
       "\n",
       "    .dataframe thead th {\n",
       "        text-align: right;\n",
       "    }\n",
       "</style>\n",
       "<table border=\"1\" class=\"dataframe\">\n",
       "  <thead>\n",
       "    <tr style=\"text-align: right;\">\n",
       "      <th></th>\n",
       "      <th>Pr(spoof)</th>\n",
       "      <th>Ground truth</th>\n",
       "      <th>Location</th>\n",
       "    </tr>\n",
       "  </thead>\n",
       "  <tbody>\n",
       "    <tr>\n",
       "      <th>0</th>\n",
       "      <td>0.00014</td>\n",
       "      <td>1</td>\n",
       "      <td>ce/6323/spoof/535014</td>\n",
       "    </tr>\n",
       "    <tr>\n",
       "      <th>2</th>\n",
       "      <td>0.01544</td>\n",
       "      <td>1</td>\n",
       "      <td>ce/6336/spoof/495582</td>\n",
       "    </tr>\n",
       "    <tr>\n",
       "      <th>4</th>\n",
       "      <td>0.16198</td>\n",
       "      <td>1</td>\n",
       "      <td>ce/5223/spoof/547897</td>\n",
       "    </tr>\n",
       "    <tr>\n",
       "      <th>8</th>\n",
       "      <td>0.00005</td>\n",
       "      <td>1</td>\n",
       "      <td>ce/9856/spoof/528955</td>\n",
       "    </tr>\n",
       "    <tr>\n",
       "      <th>9</th>\n",
       "      <td>0.09469</td>\n",
       "      <td>1</td>\n",
       "      <td>ce/6399/spoof/518535</td>\n",
       "    </tr>\n",
       "    <tr>\n",
       "      <th>...</th>\n",
       "      <td>...</td>\n",
       "      <td>...</td>\n",
       "      <td>...</td>\n",
       "    </tr>\n",
       "    <tr>\n",
       "      <th>67163</th>\n",
       "      <td>0.00725</td>\n",
       "      <td>1</td>\n",
       "      <td>ce/6293/spoof/560107</td>\n",
       "    </tr>\n",
       "    <tr>\n",
       "      <th>67164</th>\n",
       "      <td>0.00005</td>\n",
       "      <td>1</td>\n",
       "      <td>ce/7415/spoof/535513</td>\n",
       "    </tr>\n",
       "    <tr>\n",
       "      <th>67165</th>\n",
       "      <td>0.00003</td>\n",
       "      <td>1</td>\n",
       "      <td>ce/9343/spoof/519311</td>\n",
       "    </tr>\n",
       "    <tr>\n",
       "      <th>67166</th>\n",
       "      <td>0.00000</td>\n",
       "      <td>1</td>\n",
       "      <td>ce/5304/spoof/547675</td>\n",
       "    </tr>\n",
       "    <tr>\n",
       "      <th>67167</th>\n",
       "      <td>0.00003</td>\n",
       "      <td>1</td>\n",
       "      <td>ce/9250/spoof/498897</td>\n",
       "    </tr>\n",
       "  </tbody>\n",
       "</table>\n",
       "<p>34780 rows × 3 columns</p>\n",
       "</div>"
      ],
      "text/plain": [
       "       Pr(spoof)  Ground truth              Location\n",
       "0        0.00014             1  ce/6323/spoof/535014\n",
       "2        0.01544             1  ce/6336/spoof/495582\n",
       "4        0.16198             1  ce/5223/spoof/547897\n",
       "8        0.00005             1  ce/9856/spoof/528955\n",
       "9        0.09469             1  ce/6399/spoof/518535\n",
       "...          ...           ...                   ...\n",
       "67163    0.00725             1  ce/6293/spoof/560107\n",
       "67164    0.00005             1  ce/7415/spoof/535513\n",
       "67165    0.00003             1  ce/9343/spoof/519311\n",
       "67166    0.00000             1  ce/5304/spoof/547675\n",
       "67167    0.00003             1  ce/9250/spoof/498897\n",
       "\n",
       "[34780 rows x 3 columns]"
      ]
     },
     "execution_count": 127,
     "metadata": {},
     "output_type": "execute_result"
    }
   ],
   "source": [
    "# wrong \"live\" prediction of actual spoof samples.\n",
    "df2 = df_test.loc[(df_test[\"Pr(spoof)\"] <= 0.35) & (df_test[\"Ground truth\"] == 1)]\n",
    "df2"
   ]
  },
  {
   "cell_type": "code",
   "execution_count": 128,
   "metadata": {},
   "outputs": [],
   "source": [
    "df1 = df1[\"Location\"].reset_index(drop=True) #for df1 - wrong \"spoof\" prediction of actual live samples\n",
    "df2 = df2[\"Location\"].reset_index(drop=True) #for df2 - wrong \"live\" prediction of actual spoof samples\n"
   ]
  },
  {
   "cell_type": "code",
   "execution_count": 129,
   "metadata": {},
   "outputs": [],
   "source": [
    "location_df1 = []\n",
    "location_df2 = []\n",
    "for i in range(len(df1)):\n",
    "    location_df1.append(df1[i])    \n",
    "for i in range(len(df2)):\n",
    "    location_df2.append(df2[i])\n",
    "#location_df1"
   ]
  },
  {
   "cell_type": "code",
   "execution_count": 130,
   "metadata": {},
   "outputs": [],
   "source": [
    "i,j=0,0\n",
    "for st in location_df1:\n",
    "    st = st.replace('ce','Data/test')\n",
    "    st = st + \".png\"\n",
    "    location_df1[i]=st\n",
    "    i+=1\n",
    "for st in location_df2:\n",
    "    st = st.replace('ce','Data/test')\n",
    "    st = st + \".png\"\n",
    "    location_df2[j]=st\n",
    "    j+=1"
   ]
  },
  {
   "cell_type": "code",
   "execution_count": 131,
   "metadata": {},
   "outputs": [
    {
     "name": "stdout",
     "output_type": "stream",
     "text": [
      "4833 34780\n"
     ]
    }
   ],
   "source": [
    "print(len(location_df1),len(location_df2))\n",
    "#location_df1"
   ]
  },
  {
   "cell_type": "code",
   "execution_count": 132,
   "metadata": {},
   "outputs": [
    {
     "data": {
      "text/html": [
       "<div>\n",
       "<style scoped>\n",
       "    .dataframe tbody tr th:only-of-type {\n",
       "        vertical-align: middle;\n",
       "    }\n",
       "\n",
       "    .dataframe tbody tr th {\n",
       "        vertical-align: top;\n",
       "    }\n",
       "\n",
       "    .dataframe thead th {\n",
       "        text-align: right;\n",
       "    }\n",
       "</style>\n",
       "<table border=\"1\" class=\"dataframe\">\n",
       "  <thead>\n",
       "    <tr style=\"text-align: right;\">\n",
       "      <th></th>\n",
       "      <th>0</th>\n",
       "      <th>1</th>\n",
       "      <th>2</th>\n",
       "      <th>3</th>\n",
       "      <th>4</th>\n",
       "      <th>5</th>\n",
       "      <th>6</th>\n",
       "      <th>7</th>\n",
       "      <th>8</th>\n",
       "      <th>9</th>\n",
       "      <th>...</th>\n",
       "      <th>34</th>\n",
       "      <th>35</th>\n",
       "      <th>36</th>\n",
       "      <th>37</th>\n",
       "      <th>38</th>\n",
       "      <th>39</th>\n",
       "      <th>40</th>\n",
       "      <th>41</th>\n",
       "      <th>42</th>\n",
       "      <th>43</th>\n",
       "    </tr>\n",
       "  </thead>\n",
       "  <tbody>\n",
       "    <tr>\n",
       "      <th>Data/test/6964/spoof/494405.png</th>\n",
       "      <td>0</td>\n",
       "      <td>0</td>\n",
       "      <td>0</td>\n",
       "      <td>0</td>\n",
       "      <td>0</td>\n",
       "      <td>0</td>\n",
       "      <td>0</td>\n",
       "      <td>0</td>\n",
       "      <td>0</td>\n",
       "      <td>0</td>\n",
       "      <td>...</td>\n",
       "      <td>0</td>\n",
       "      <td>0</td>\n",
       "      <td>0</td>\n",
       "      <td>0</td>\n",
       "      <td>0</td>\n",
       "      <td>0</td>\n",
       "      <td>4</td>\n",
       "      <td>2</td>\n",
       "      <td>2</td>\n",
       "      <td>1</td>\n",
       "    </tr>\n",
       "    <tr>\n",
       "      <th>Data/test/9596/spoof/494406.png</th>\n",
       "      <td>0</td>\n",
       "      <td>0</td>\n",
       "      <td>0</td>\n",
       "      <td>0</td>\n",
       "      <td>0</td>\n",
       "      <td>0</td>\n",
       "      <td>0</td>\n",
       "      <td>0</td>\n",
       "      <td>0</td>\n",
       "      <td>0</td>\n",
       "      <td>...</td>\n",
       "      <td>0</td>\n",
       "      <td>0</td>\n",
       "      <td>0</td>\n",
       "      <td>0</td>\n",
       "      <td>0</td>\n",
       "      <td>0</td>\n",
       "      <td>9</td>\n",
       "      <td>2</td>\n",
       "      <td>2</td>\n",
       "      <td>1</td>\n",
       "    </tr>\n",
       "    <tr>\n",
       "      <th>Data/test/9014/spoof/494407.png</th>\n",
       "      <td>0</td>\n",
       "      <td>0</td>\n",
       "      <td>0</td>\n",
       "      <td>0</td>\n",
       "      <td>0</td>\n",
       "      <td>0</td>\n",
       "      <td>0</td>\n",
       "      <td>0</td>\n",
       "      <td>0</td>\n",
       "      <td>0</td>\n",
       "      <td>...</td>\n",
       "      <td>0</td>\n",
       "      <td>0</td>\n",
       "      <td>0</td>\n",
       "      <td>0</td>\n",
       "      <td>0</td>\n",
       "      <td>0</td>\n",
       "      <td>8</td>\n",
       "      <td>1</td>\n",
       "      <td>2</td>\n",
       "      <td>1</td>\n",
       "    </tr>\n",
       "    <tr>\n",
       "      <th>Data/test/7607/spoof/494408.png</th>\n",
       "      <td>0</td>\n",
       "      <td>0</td>\n",
       "      <td>0</td>\n",
       "      <td>0</td>\n",
       "      <td>0</td>\n",
       "      <td>0</td>\n",
       "      <td>0</td>\n",
       "      <td>0</td>\n",
       "      <td>0</td>\n",
       "      <td>0</td>\n",
       "      <td>...</td>\n",
       "      <td>0</td>\n",
       "      <td>0</td>\n",
       "      <td>0</td>\n",
       "      <td>0</td>\n",
       "      <td>0</td>\n",
       "      <td>0</td>\n",
       "      <td>6</td>\n",
       "      <td>1</td>\n",
       "      <td>1</td>\n",
       "      <td>1</td>\n",
       "    </tr>\n",
       "    <tr>\n",
       "      <th>Data/test/5624/spoof/494409.png</th>\n",
       "      <td>0</td>\n",
       "      <td>0</td>\n",
       "      <td>0</td>\n",
       "      <td>0</td>\n",
       "      <td>0</td>\n",
       "      <td>0</td>\n",
       "      <td>0</td>\n",
       "      <td>0</td>\n",
       "      <td>0</td>\n",
       "      <td>0</td>\n",
       "      <td>...</td>\n",
       "      <td>0</td>\n",
       "      <td>0</td>\n",
       "      <td>0</td>\n",
       "      <td>0</td>\n",
       "      <td>0</td>\n",
       "      <td>0</td>\n",
       "      <td>2</td>\n",
       "      <td>1</td>\n",
       "      <td>1</td>\n",
       "      <td>1</td>\n",
       "    </tr>\n",
       "  </tbody>\n",
       "</table>\n",
       "<p>5 rows × 44 columns</p>\n",
       "</div>"
      ],
      "text/plain": [
       "                                 0   1   2   3   4   5   6   7   8   9   ...  \\\n",
       "Data/test/6964/spoof/494405.png   0   0   0   0   0   0   0   0   0   0  ...   \n",
       "Data/test/9596/spoof/494406.png   0   0   0   0   0   0   0   0   0   0  ...   \n",
       "Data/test/9014/spoof/494407.png   0   0   0   0   0   0   0   0   0   0  ...   \n",
       "Data/test/7607/spoof/494408.png   0   0   0   0   0   0   0   0   0   0  ...   \n",
       "Data/test/5624/spoof/494409.png   0   0   0   0   0   0   0   0   0   0  ...   \n",
       "\n",
       "                                 34  35  36  37  38  39  40  41  42  43  \n",
       "Data/test/6964/spoof/494405.png   0   0   0   0   0   0   4   2   2   1  \n",
       "Data/test/9596/spoof/494406.png   0   0   0   0   0   0   9   2   2   1  \n",
       "Data/test/9014/spoof/494407.png   0   0   0   0   0   0   8   1   2   1  \n",
       "Data/test/7607/spoof/494408.png   0   0   0   0   0   0   6   1   1   1  \n",
       "Data/test/5624/spoof/494409.png   0   0   0   0   0   0   2   1   1   1  \n",
       "\n",
       "[5 rows x 44 columns]"
      ]
     },
     "execution_count": 132,
     "metadata": {},
     "output_type": "execute_result"
    }
   ],
   "source": [
    "test_label=test_label.T\n",
    "test_label.head()"
   ]
  },
  {
   "cell_type": "code",
   "execution_count": 133,
   "metadata": {},
   "outputs": [],
   "source": [
    "test_label = test_label.reset_index()"
   ]
  },
  {
   "cell_type": "code",
   "execution_count": 134,
   "metadata": {},
   "outputs": [],
   "source": [
    "#test_label.loc[(test_label[\"index\"]) == 'Data/test/9499/live/553474.png' ]"
   ]
  },
  {
   "cell_type": "code",
   "execution_count": 141,
   "metadata": {},
   "outputs": [],
   "source": [
    "df1_final = pd.DataFrame()\n",
    "df2_final = pd.DataFrame()"
   ]
  },
  {
   "cell_type": "code",
   "execution_count": 142,
   "metadata": {},
   "outputs": [],
   "source": [
    "for i in range(len(location_df1)):\n",
    "    df1_final = df1_final.append(test_label.loc[(test_label[\"index\"]) == location_df1[i]])\n",
    "for i in range(len(location_df2)):\n",
    "    df2_final = df2_final.append(test_label.loc[(test_label[\"index\"]) == location_df2[i]])"
   ]
  },
  {
   "cell_type": "code",
   "execution_count": 144,
   "metadata": {},
   "outputs": [
    {
     "data": {
      "text/html": [
       "<div>\n",
       "<style scoped>\n",
       "    .dataframe tbody tr th:only-of-type {\n",
       "        vertical-align: middle;\n",
       "    }\n",
       "\n",
       "    .dataframe tbody tr th {\n",
       "        vertical-align: top;\n",
       "    }\n",
       "\n",
       "    .dataframe thead th {\n",
       "        text-align: right;\n",
       "    }\n",
       "</style>\n",
       "<table border=\"1\" class=\"dataframe\">\n",
       "  <thead>\n",
       "    <tr style=\"text-align: right;\">\n",
       "      <th></th>\n",
       "      <th>index</th>\n",
       "      <th>0</th>\n",
       "      <th>1</th>\n",
       "      <th>2</th>\n",
       "      <th>3</th>\n",
       "      <th>4</th>\n",
       "      <th>5</th>\n",
       "      <th>6</th>\n",
       "      <th>7</th>\n",
       "      <th>8</th>\n",
       "      <th>...</th>\n",
       "      <th>34</th>\n",
       "      <th>35</th>\n",
       "      <th>36</th>\n",
       "      <th>37</th>\n",
       "      <th>38</th>\n",
       "      <th>39</th>\n",
       "      <th>40</th>\n",
       "      <th>41</th>\n",
       "      <th>42</th>\n",
       "      <th>43</th>\n",
       "    </tr>\n",
       "  </thead>\n",
       "  <tbody>\n",
       "    <tr>\n",
       "      <th>3230</th>\n",
       "      <td>Data/test/6919/live/497635.png</td>\n",
       "      <td>0</td>\n",
       "      <td>0</td>\n",
       "      <td>1</td>\n",
       "      <td>0</td>\n",
       "      <td>0</td>\n",
       "      <td>0</td>\n",
       "      <td>0</td>\n",
       "      <td>0</td>\n",
       "      <td>0</td>\n",
       "      <td>...</td>\n",
       "      <td>1</td>\n",
       "      <td>0</td>\n",
       "      <td>0</td>\n",
       "      <td>0</td>\n",
       "      <td>0</td>\n",
       "      <td>1</td>\n",
       "      <td>0</td>\n",
       "      <td>0</td>\n",
       "      <td>0</td>\n",
       "      <td>0</td>\n",
       "    </tr>\n",
       "    <tr>\n",
       "      <th>29328</th>\n",
       "      <td>Data/test/10059/live/523733.png</td>\n",
       "      <td>0</td>\n",
       "      <td>0</td>\n",
       "      <td>1</td>\n",
       "      <td>0</td>\n",
       "      <td>0</td>\n",
       "      <td>0</td>\n",
       "      <td>0</td>\n",
       "      <td>0</td>\n",
       "      <td>0</td>\n",
       "      <td>...</td>\n",
       "      <td>0</td>\n",
       "      <td>0</td>\n",
       "      <td>1</td>\n",
       "      <td>0</td>\n",
       "      <td>0</td>\n",
       "      <td>1</td>\n",
       "      <td>0</td>\n",
       "      <td>0</td>\n",
       "      <td>0</td>\n",
       "      <td>0</td>\n",
       "    </tr>\n",
       "    <tr>\n",
       "      <th>48241</th>\n",
       "      <td>Data/test/8978/live/542646.png</td>\n",
       "      <td>0</td>\n",
       "      <td>0</td>\n",
       "      <td>0</td>\n",
       "      <td>0</td>\n",
       "      <td>0</td>\n",
       "      <td>0</td>\n",
       "      <td>0</td>\n",
       "      <td>0</td>\n",
       "      <td>0</td>\n",
       "      <td>...</td>\n",
       "      <td>0</td>\n",
       "      <td>0</td>\n",
       "      <td>0</td>\n",
       "      <td>0</td>\n",
       "      <td>0</td>\n",
       "      <td>1</td>\n",
       "      <td>0</td>\n",
       "      <td>0</td>\n",
       "      <td>0</td>\n",
       "      <td>0</td>\n",
       "    </tr>\n",
       "    <tr>\n",
       "      <th>10375</th>\n",
       "      <td>Data/test/7245/live/504780.png</td>\n",
       "      <td>0</td>\n",
       "      <td>1</td>\n",
       "      <td>1</td>\n",
       "      <td>0</td>\n",
       "      <td>0</td>\n",
       "      <td>0</td>\n",
       "      <td>1</td>\n",
       "      <td>0</td>\n",
       "      <td>0</td>\n",
       "      <td>...</td>\n",
       "      <td>1</td>\n",
       "      <td>0</td>\n",
       "      <td>1</td>\n",
       "      <td>0</td>\n",
       "      <td>0</td>\n",
       "      <td>1</td>\n",
       "      <td>0</td>\n",
       "      <td>0</td>\n",
       "      <td>0</td>\n",
       "      <td>0</td>\n",
       "    </tr>\n",
       "    <tr>\n",
       "      <th>1610</th>\n",
       "      <td>Data/test/7072/live/496015.png</td>\n",
       "      <td>0</td>\n",
       "      <td>0</td>\n",
       "      <td>1</td>\n",
       "      <td>0</td>\n",
       "      <td>0</td>\n",
       "      <td>0</td>\n",
       "      <td>1</td>\n",
       "      <td>0</td>\n",
       "      <td>0</td>\n",
       "      <td>...</td>\n",
       "      <td>1</td>\n",
       "      <td>0</td>\n",
       "      <td>1</td>\n",
       "      <td>0</td>\n",
       "      <td>0</td>\n",
       "      <td>1</td>\n",
       "      <td>0</td>\n",
       "      <td>0</td>\n",
       "      <td>0</td>\n",
       "      <td>0</td>\n",
       "    </tr>\n",
       "    <tr>\n",
       "      <th>...</th>\n",
       "      <td>...</td>\n",
       "      <td>...</td>\n",
       "      <td>...</td>\n",
       "      <td>...</td>\n",
       "      <td>...</td>\n",
       "      <td>...</td>\n",
       "      <td>...</td>\n",
       "      <td>...</td>\n",
       "      <td>...</td>\n",
       "      <td>...</td>\n",
       "      <td>...</td>\n",
       "      <td>...</td>\n",
       "      <td>...</td>\n",
       "      <td>...</td>\n",
       "      <td>...</td>\n",
       "      <td>...</td>\n",
       "      <td>...</td>\n",
       "      <td>...</td>\n",
       "      <td>...</td>\n",
       "      <td>...</td>\n",
       "      <td>...</td>\n",
       "    </tr>\n",
       "    <tr>\n",
       "      <th>19836</th>\n",
       "      <td>Data/test/9472/live/514241.png</td>\n",
       "      <td>0</td>\n",
       "      <td>0</td>\n",
       "      <td>1</td>\n",
       "      <td>0</td>\n",
       "      <td>0</td>\n",
       "      <td>0</td>\n",
       "      <td>0</td>\n",
       "      <td>0</td>\n",
       "      <td>1</td>\n",
       "      <td>...</td>\n",
       "      <td>0</td>\n",
       "      <td>0</td>\n",
       "      <td>1</td>\n",
       "      <td>0</td>\n",
       "      <td>0</td>\n",
       "      <td>1</td>\n",
       "      <td>0</td>\n",
       "      <td>0</td>\n",
       "      <td>0</td>\n",
       "      <td>0</td>\n",
       "    </tr>\n",
       "    <tr>\n",
       "      <th>15905</th>\n",
       "      <td>Data/test/9715/live/510310.png</td>\n",
       "      <td>0</td>\n",
       "      <td>1</td>\n",
       "      <td>0</td>\n",
       "      <td>0</td>\n",
       "      <td>0</td>\n",
       "      <td>0</td>\n",
       "      <td>1</td>\n",
       "      <td>0</td>\n",
       "      <td>0</td>\n",
       "      <td>...</td>\n",
       "      <td>0</td>\n",
       "      <td>0</td>\n",
       "      <td>1</td>\n",
       "      <td>0</td>\n",
       "      <td>0</td>\n",
       "      <td>1</td>\n",
       "      <td>0</td>\n",
       "      <td>0</td>\n",
       "      <td>0</td>\n",
       "      <td>0</td>\n",
       "    </tr>\n",
       "    <tr>\n",
       "      <th>19111</th>\n",
       "      <td>Data/test/8005/live/513516.png</td>\n",
       "      <td>0</td>\n",
       "      <td>0</td>\n",
       "      <td>1</td>\n",
       "      <td>0</td>\n",
       "      <td>0</td>\n",
       "      <td>0</td>\n",
       "      <td>0</td>\n",
       "      <td>0</td>\n",
       "      <td>0</td>\n",
       "      <td>...</td>\n",
       "      <td>0</td>\n",
       "      <td>0</td>\n",
       "      <td>1</td>\n",
       "      <td>0</td>\n",
       "      <td>0</td>\n",
       "      <td>1</td>\n",
       "      <td>0</td>\n",
       "      <td>0</td>\n",
       "      <td>0</td>\n",
       "      <td>0</td>\n",
       "    </tr>\n",
       "    <tr>\n",
       "      <th>62692</th>\n",
       "      <td>Data/test/5061/live/557097.png</td>\n",
       "      <td>0</td>\n",
       "      <td>0</td>\n",
       "      <td>1</td>\n",
       "      <td>0</td>\n",
       "      <td>0</td>\n",
       "      <td>1</td>\n",
       "      <td>0</td>\n",
       "      <td>0</td>\n",
       "      <td>0</td>\n",
       "      <td>...</td>\n",
       "      <td>0</td>\n",
       "      <td>0</td>\n",
       "      <td>1</td>\n",
       "      <td>0</td>\n",
       "      <td>0</td>\n",
       "      <td>1</td>\n",
       "      <td>0</td>\n",
       "      <td>0</td>\n",
       "      <td>0</td>\n",
       "      <td>0</td>\n",
       "    </tr>\n",
       "    <tr>\n",
       "      <th>59069</th>\n",
       "      <td>Data/test/9499/live/553474.png</td>\n",
       "      <td>0</td>\n",
       "      <td>0</td>\n",
       "      <td>0</td>\n",
       "      <td>0</td>\n",
       "      <td>0</td>\n",
       "      <td>0</td>\n",
       "      <td>0</td>\n",
       "      <td>0</td>\n",
       "      <td>0</td>\n",
       "      <td>...</td>\n",
       "      <td>0</td>\n",
       "      <td>0</td>\n",
       "      <td>0</td>\n",
       "      <td>0</td>\n",
       "      <td>1</td>\n",
       "      <td>0</td>\n",
       "      <td>0</td>\n",
       "      <td>0</td>\n",
       "      <td>0</td>\n",
       "      <td>0</td>\n",
       "    </tr>\n",
       "  </tbody>\n",
       "</table>\n",
       "<p>4833 rows × 45 columns</p>\n",
       "</div>"
      ],
      "text/plain": [
       "                                 index  0  1  2  3  4  5  6  7  8  ...  34  \\\n",
       "3230    Data/test/6919/live/497635.png  0  0  1  0  0  0  0  0  0  ...   1   \n",
       "29328  Data/test/10059/live/523733.png  0  0  1  0  0  0  0  0  0  ...   0   \n",
       "48241   Data/test/8978/live/542646.png  0  0  0  0  0  0  0  0  0  ...   0   \n",
       "10375   Data/test/7245/live/504780.png  0  1  1  0  0  0  1  0  0  ...   1   \n",
       "1610    Data/test/7072/live/496015.png  0  0  1  0  0  0  1  0  0  ...   1   \n",
       "...                                ... .. .. .. .. .. .. .. .. ..  ...  ..   \n",
       "19836   Data/test/9472/live/514241.png  0  0  1  0  0  0  0  0  1  ...   0   \n",
       "15905   Data/test/9715/live/510310.png  0  1  0  0  0  0  1  0  0  ...   0   \n",
       "19111   Data/test/8005/live/513516.png  0  0  1  0  0  0  0  0  0  ...   0   \n",
       "62692   Data/test/5061/live/557097.png  0  0  1  0  0  1  0  0  0  ...   0   \n",
       "59069   Data/test/9499/live/553474.png  0  0  0  0  0  0  0  0  0  ...   0   \n",
       "\n",
       "       35  36  37  38  39  40  41  42  43  \n",
       "3230    0   0   0   0   1   0   0   0   0  \n",
       "29328   0   1   0   0   1   0   0   0   0  \n",
       "48241   0   0   0   0   1   0   0   0   0  \n",
       "10375   0   1   0   0   1   0   0   0   0  \n",
       "1610    0   1   0   0   1   0   0   0   0  \n",
       "...    ..  ..  ..  ..  ..  ..  ..  ..  ..  \n",
       "19836   0   1   0   0   1   0   0   0   0  \n",
       "15905   0   1   0   0   1   0   0   0   0  \n",
       "19111   0   1   0   0   1   0   0   0   0  \n",
       "62692   0   1   0   0   1   0   0   0   0  \n",
       "59069   0   0   0   1   0   0   0   0   0  \n",
       "\n",
       "[4833 rows x 45 columns]"
      ]
     },
     "execution_count": 144,
     "metadata": {},
     "output_type": "execute_result"
    }
   ],
   "source": [
    "df1_final"
   ]
  },
  {
   "cell_type": "code",
   "execution_count": 145,
   "metadata": {},
   "outputs": [
    {
     "data": {
      "text/html": [
       "<div>\n",
       "<style scoped>\n",
       "    .dataframe tbody tr th:only-of-type {\n",
       "        vertical-align: middle;\n",
       "    }\n",
       "\n",
       "    .dataframe tbody tr th {\n",
       "        vertical-align: top;\n",
       "    }\n",
       "\n",
       "    .dataframe thead th {\n",
       "        text-align: right;\n",
       "    }\n",
       "</style>\n",
       "<table border=\"1\" class=\"dataframe\">\n",
       "  <thead>\n",
       "    <tr style=\"text-align: right;\">\n",
       "      <th></th>\n",
       "      <th>index</th>\n",
       "      <th>0</th>\n",
       "      <th>1</th>\n",
       "      <th>2</th>\n",
       "      <th>3</th>\n",
       "      <th>4</th>\n",
       "      <th>5</th>\n",
       "      <th>6</th>\n",
       "      <th>7</th>\n",
       "      <th>8</th>\n",
       "      <th>...</th>\n",
       "      <th>34</th>\n",
       "      <th>35</th>\n",
       "      <th>36</th>\n",
       "      <th>37</th>\n",
       "      <th>38</th>\n",
       "      <th>39</th>\n",
       "      <th>40</th>\n",
       "      <th>41</th>\n",
       "      <th>42</th>\n",
       "      <th>43</th>\n",
       "    </tr>\n",
       "  </thead>\n",
       "  <tbody>\n",
       "    <tr>\n",
       "      <th>40609</th>\n",
       "      <td>Data/test/6323/spoof/535014.png</td>\n",
       "      <td>0</td>\n",
       "      <td>0</td>\n",
       "      <td>0</td>\n",
       "      <td>0</td>\n",
       "      <td>0</td>\n",
       "      <td>0</td>\n",
       "      <td>0</td>\n",
       "      <td>0</td>\n",
       "      <td>0</td>\n",
       "      <td>...</td>\n",
       "      <td>0</td>\n",
       "      <td>0</td>\n",
       "      <td>0</td>\n",
       "      <td>0</td>\n",
       "      <td>0</td>\n",
       "      <td>0</td>\n",
       "      <td>3</td>\n",
       "      <td>1</td>\n",
       "      <td>1</td>\n",
       "      <td>1</td>\n",
       "    </tr>\n",
       "    <tr>\n",
       "      <th>1177</th>\n",
       "      <td>Data/test/6336/spoof/495582.png</td>\n",
       "      <td>0</td>\n",
       "      <td>0</td>\n",
       "      <td>0</td>\n",
       "      <td>0</td>\n",
       "      <td>0</td>\n",
       "      <td>0</td>\n",
       "      <td>0</td>\n",
       "      <td>0</td>\n",
       "      <td>0</td>\n",
       "      <td>...</td>\n",
       "      <td>0</td>\n",
       "      <td>0</td>\n",
       "      <td>0</td>\n",
       "      <td>0</td>\n",
       "      <td>0</td>\n",
       "      <td>0</td>\n",
       "      <td>3</td>\n",
       "      <td>1</td>\n",
       "      <td>1</td>\n",
       "      <td>1</td>\n",
       "    </tr>\n",
       "    <tr>\n",
       "      <th>53492</th>\n",
       "      <td>Data/test/5223/spoof/547897.png</td>\n",
       "      <td>0</td>\n",
       "      <td>0</td>\n",
       "      <td>0</td>\n",
       "      <td>0</td>\n",
       "      <td>0</td>\n",
       "      <td>0</td>\n",
       "      <td>0</td>\n",
       "      <td>0</td>\n",
       "      <td>0</td>\n",
       "      <td>...</td>\n",
       "      <td>0</td>\n",
       "      <td>0</td>\n",
       "      <td>0</td>\n",
       "      <td>0</td>\n",
       "      <td>0</td>\n",
       "      <td>0</td>\n",
       "      <td>5</td>\n",
       "      <td>1</td>\n",
       "      <td>1</td>\n",
       "      <td>1</td>\n",
       "    </tr>\n",
       "    <tr>\n",
       "      <th>34550</th>\n",
       "      <td>Data/test/9856/spoof/528955.png</td>\n",
       "      <td>0</td>\n",
       "      <td>0</td>\n",
       "      <td>0</td>\n",
       "      <td>0</td>\n",
       "      <td>0</td>\n",
       "      <td>0</td>\n",
       "      <td>0</td>\n",
       "      <td>0</td>\n",
       "      <td>0</td>\n",
       "      <td>...</td>\n",
       "      <td>0</td>\n",
       "      <td>0</td>\n",
       "      <td>0</td>\n",
       "      <td>0</td>\n",
       "      <td>0</td>\n",
       "      <td>0</td>\n",
       "      <td>10</td>\n",
       "      <td>1</td>\n",
       "      <td>1</td>\n",
       "      <td>1</td>\n",
       "    </tr>\n",
       "    <tr>\n",
       "      <th>24130</th>\n",
       "      <td>Data/test/6399/spoof/518535.png</td>\n",
       "      <td>0</td>\n",
       "      <td>0</td>\n",
       "      <td>0</td>\n",
       "      <td>0</td>\n",
       "      <td>0</td>\n",
       "      <td>0</td>\n",
       "      <td>0</td>\n",
       "      <td>0</td>\n",
       "      <td>0</td>\n",
       "      <td>...</td>\n",
       "      <td>0</td>\n",
       "      <td>0</td>\n",
       "      <td>0</td>\n",
       "      <td>0</td>\n",
       "      <td>0</td>\n",
       "      <td>0</td>\n",
       "      <td>3</td>\n",
       "      <td>1</td>\n",
       "      <td>1</td>\n",
       "      <td>1</td>\n",
       "    </tr>\n",
       "    <tr>\n",
       "      <th>...</th>\n",
       "      <td>...</td>\n",
       "      <td>...</td>\n",
       "      <td>...</td>\n",
       "      <td>...</td>\n",
       "      <td>...</td>\n",
       "      <td>...</td>\n",
       "      <td>...</td>\n",
       "      <td>...</td>\n",
       "      <td>...</td>\n",
       "      <td>...</td>\n",
       "      <td>...</td>\n",
       "      <td>...</td>\n",
       "      <td>...</td>\n",
       "      <td>...</td>\n",
       "      <td>...</td>\n",
       "      <td>...</td>\n",
       "      <td>...</td>\n",
       "      <td>...</td>\n",
       "      <td>...</td>\n",
       "      <td>...</td>\n",
       "      <td>...</td>\n",
       "    </tr>\n",
       "    <tr>\n",
       "      <th>65702</th>\n",
       "      <td>Data/test/6293/spoof/560107.png</td>\n",
       "      <td>0</td>\n",
       "      <td>0</td>\n",
       "      <td>0</td>\n",
       "      <td>0</td>\n",
       "      <td>0</td>\n",
       "      <td>0</td>\n",
       "      <td>0</td>\n",
       "      <td>0</td>\n",
       "      <td>0</td>\n",
       "      <td>...</td>\n",
       "      <td>0</td>\n",
       "      <td>0</td>\n",
       "      <td>0</td>\n",
       "      <td>0</td>\n",
       "      <td>0</td>\n",
       "      <td>0</td>\n",
       "      <td>3</td>\n",
       "      <td>4</td>\n",
       "      <td>1</td>\n",
       "      <td>1</td>\n",
       "    </tr>\n",
       "    <tr>\n",
       "      <th>41108</th>\n",
       "      <td>Data/test/7415/spoof/535513.png</td>\n",
       "      <td>0</td>\n",
       "      <td>0</td>\n",
       "      <td>0</td>\n",
       "      <td>0</td>\n",
       "      <td>0</td>\n",
       "      <td>0</td>\n",
       "      <td>0</td>\n",
       "      <td>0</td>\n",
       "      <td>0</td>\n",
       "      <td>...</td>\n",
       "      <td>0</td>\n",
       "      <td>0</td>\n",
       "      <td>0</td>\n",
       "      <td>0</td>\n",
       "      <td>0</td>\n",
       "      <td>0</td>\n",
       "      <td>7</td>\n",
       "      <td>1</td>\n",
       "      <td>1</td>\n",
       "      <td>1</td>\n",
       "    </tr>\n",
       "    <tr>\n",
       "      <th>24906</th>\n",
       "      <td>Data/test/9343/spoof/519311.png</td>\n",
       "      <td>0</td>\n",
       "      <td>0</td>\n",
       "      <td>0</td>\n",
       "      <td>0</td>\n",
       "      <td>0</td>\n",
       "      <td>0</td>\n",
       "      <td>0</td>\n",
       "      <td>0</td>\n",
       "      <td>0</td>\n",
       "      <td>...</td>\n",
       "      <td>0</td>\n",
       "      <td>0</td>\n",
       "      <td>0</td>\n",
       "      <td>0</td>\n",
       "      <td>0</td>\n",
       "      <td>0</td>\n",
       "      <td>7</td>\n",
       "      <td>1</td>\n",
       "      <td>1</td>\n",
       "      <td>1</td>\n",
       "    </tr>\n",
       "    <tr>\n",
       "      <th>53270</th>\n",
       "      <td>Data/test/5304/spoof/547675.png</td>\n",
       "      <td>0</td>\n",
       "      <td>0</td>\n",
       "      <td>0</td>\n",
       "      <td>0</td>\n",
       "      <td>0</td>\n",
       "      <td>0</td>\n",
       "      <td>0</td>\n",
       "      <td>0</td>\n",
       "      <td>0</td>\n",
       "      <td>...</td>\n",
       "      <td>0</td>\n",
       "      <td>0</td>\n",
       "      <td>0</td>\n",
       "      <td>0</td>\n",
       "      <td>0</td>\n",
       "      <td>0</td>\n",
       "      <td>5</td>\n",
       "      <td>1</td>\n",
       "      <td>1</td>\n",
       "      <td>1</td>\n",
       "    </tr>\n",
       "    <tr>\n",
       "      <th>4492</th>\n",
       "      <td>Data/test/9250/spoof/498897.png</td>\n",
       "      <td>0</td>\n",
       "      <td>0</td>\n",
       "      <td>0</td>\n",
       "      <td>0</td>\n",
       "      <td>0</td>\n",
       "      <td>0</td>\n",
       "      <td>0</td>\n",
       "      <td>0</td>\n",
       "      <td>0</td>\n",
       "      <td>...</td>\n",
       "      <td>0</td>\n",
       "      <td>0</td>\n",
       "      <td>0</td>\n",
       "      <td>0</td>\n",
       "      <td>0</td>\n",
       "      <td>0</td>\n",
       "      <td>9</td>\n",
       "      <td>3</td>\n",
       "      <td>1</td>\n",
       "      <td>1</td>\n",
       "    </tr>\n",
       "  </tbody>\n",
       "</table>\n",
       "<p>34780 rows × 45 columns</p>\n",
       "</div>"
      ],
      "text/plain": [
       "                                 index  0  1  2  3  4  5  6  7  8  ...  34  \\\n",
       "40609  Data/test/6323/spoof/535014.png  0  0  0  0  0  0  0  0  0  ...   0   \n",
       "1177   Data/test/6336/spoof/495582.png  0  0  0  0  0  0  0  0  0  ...   0   \n",
       "53492  Data/test/5223/spoof/547897.png  0  0  0  0  0  0  0  0  0  ...   0   \n",
       "34550  Data/test/9856/spoof/528955.png  0  0  0  0  0  0  0  0  0  ...   0   \n",
       "24130  Data/test/6399/spoof/518535.png  0  0  0  0  0  0  0  0  0  ...   0   \n",
       "...                                ... .. .. .. .. .. .. .. .. ..  ...  ..   \n",
       "65702  Data/test/6293/spoof/560107.png  0  0  0  0  0  0  0  0  0  ...   0   \n",
       "41108  Data/test/7415/spoof/535513.png  0  0  0  0  0  0  0  0  0  ...   0   \n",
       "24906  Data/test/9343/spoof/519311.png  0  0  0  0  0  0  0  0  0  ...   0   \n",
       "53270  Data/test/5304/spoof/547675.png  0  0  0  0  0  0  0  0  0  ...   0   \n",
       "4492   Data/test/9250/spoof/498897.png  0  0  0  0  0  0  0  0  0  ...   0   \n",
       "\n",
       "       35  36  37  38  39  40  41  42  43  \n",
       "40609   0   0   0   0   0   3   1   1   1  \n",
       "1177    0   0   0   0   0   3   1   1   1  \n",
       "53492   0   0   0   0   0   5   1   1   1  \n",
       "34550   0   0   0   0   0  10   1   1   1  \n",
       "24130   0   0   0   0   0   3   1   1   1  \n",
       "...    ..  ..  ..  ..  ..  ..  ..  ..  ..  \n",
       "65702   0   0   0   0   0   3   4   1   1  \n",
       "41108   0   0   0   0   0   7   1   1   1  \n",
       "24906   0   0   0   0   0   7   1   1   1  \n",
       "53270   0   0   0   0   0   5   1   1   1  \n",
       "4492    0   0   0   0   0   9   3   1   1  \n",
       "\n",
       "[34780 rows x 45 columns]"
      ]
     },
     "execution_count": 145,
     "metadata": {},
     "output_type": "execute_result"
    }
   ],
   "source": [
    "df2_final"
   ]
  }
 ],
 "metadata": {
  "kernelspec": {
   "display_name": "Python 3",
   "language": "python",
   "name": "python3"
  },
  "language_info": {
   "codemirror_mode": {
    "name": "ipython",
    "version": 3
   },
   "file_extension": ".py",
   "mimetype": "text/x-python",
   "name": "python",
   "nbconvert_exporter": "python",
   "pygments_lexer": "ipython3",
   "version": "3.7.9"
  }
 },
 "nbformat": 4,
 "nbformat_minor": 4
}
